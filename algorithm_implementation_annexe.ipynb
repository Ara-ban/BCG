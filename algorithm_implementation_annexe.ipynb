{
 "cells": [
  {
   "cell_type": "markdown",
   "metadata": {},
   "source": [
    "### Exemple de graph:"
   ]
  },
  {
   "cell_type": "code",
   "execution_count": null,
   "metadata": {},
   "outputs": [],
   "source": [
    "\n",
    "graph = {\n",
    "    'A': ['B', 'D'],\n",
    "    'B': ['A', 'C', 'E'],\n",
    "    'C': ['B', 'F'],\n",
    "    'D': ['A', 'E', 'G'],\n",
    "    'E': ['B', 'D', 'F', 'H'],\n",
    "    'F': ['C', 'E', 'I'],\n",
    "    'G': ['D', 'H'],\n",
    "    'H': ['E', 'G', 'I'],\n",
    "    'I': ['F', 'H']\n",
    "}"
   ]
  },
  {
   "cell_type": "markdown",
   "metadata": {},
   "source": [
    "### Introduire l'information des vitesses moyennes/Génerer 24 version du graphe pour une journée:"
   ]
  },
  {
   "cell_type": "code",
   "execution_count": null,
   "metadata": {},
   "outputs": [],
   "source": [
    "\n",
    "time_expanded_graph = {}\n",
    "\n",
    "for hour in range(24):  \n",
    "    for node in 'ABCDEFGHI':  \n",
    "        time_expanded_graph[(node, hour)] = []\n",
    "\n",
    "\n",
    "hour = 0  \n",
    "time_expanded_graph[('A', hour)] = [(('B', hour), speed_ab), (('D', hour), speed_ad)]\n",
    "time_expanded_graph[('B', hour)] = [(('A', hour), speed_ba), (('C', hour), speed_bc), (('E', hour), speed_be)]\n",
    "\n",
    "\n",
    "\n",
    "for hour in range(1, 24):  \n",
    "    \n",
    "\n",
    "    time_expanded_graph[('A', hour)] = [(('B', hour), speed_ab), (('D', hour), speed_ad)]\n",
    "\n",
    "\n",
    "#where speeds are the inputs\n"
   ]
  },
  {
   "cell_type": "markdown",
   "metadata": {},
   "source": [
    "### Structure générale de l'algorithme:"
   ]
  },
  {
   "cell_type": "code",
   "execution_count": null,
   "metadata": {},
   "outputs": [],
   "source": [
    "# Définir les 24 graphes pour chaque heure de la journée\n",
    "hourly_graphs = define_hourly_graphs()\n",
    "\n",
    "# Liste des routes à visiter basée sur les articles à livrer\n",
    "roads_to_visit = get_roads_to_visit()\n",
    "\n",
    "# Initialiser la liste des chauffeurs\n",
    "drivers = []\n",
    "\n",
    "# Définir le point de départ\n",
    "start_point = 'A'\n",
    "\n",
    "# Boucle principale pour assigner les routes aux chauffeurs\n",
    "while roads_to_visit:\n",
    "    # Trouver le prochain chauffeur disponible ou en ajouter un nouveau\n",
    "    driver = find_or_create_driver(drivers)\n",
    "    \n",
    "    # Calculer la meilleure route pour le chauffeur à partir du point de départ\n",
    "    route, start_time = calculate_best_route(hourly_graphs, driver, roads_to_visit, start_point)\n",
    "    \n",
    "    # Assigner la route au chauffeur et définir l'heure de départ\n",
    "    assign_route_to_driver(driver, route, start_time)\n",
    "    \n",
    "    # Marquer les routes de la tournée comme visitées\n",
    "    mark_roads_as_visited(roads_to_visit, route)\n",
    "    \n",
    "    # Répéter jusqu'à ce que toutes les routes aient été assignées à un chauffeur\n",
    "\n",
    "# Fonction pour définir les graphes horaires\n",
    "def define_hourly_graphs():\n",
    "    # implementation\n",
    "\n",
    "# Fonction pour obtenir les routes à visiter pour la journée\n",
    "def get_roads_to_visit():\n",
    "     # implementation\n",
    "\n",
    "# Fonction pour trouver un chauffeur existant ou en créer un nouveau\n",
    "def find_or_create_driver(drivers):\n",
    "     # implementation\n",
    "\n",
    "# Fonction pour calculer la meilleure route pour un chauffeur\n",
    "def calculate_best_route(hourly_graphs, driver, roads_to_visit, start_point):\n",
    "     # implementation\n",
    "\n",
    "# Fonction pour assigner une route à un chauffeur\n",
    "def assign_route_to_driver(driver, route, start_time):\n",
    "     # implementation\n",
    "\n",
    "# Fonction pour marquer les routes comme visitées\n",
    "def mark_roads_as_visited(roads_to_visit, route):\n",
    "     # implementation\n"
   ]
  }
 ],
 "metadata": {
  "language_info": {
   "name": "python"
  }
 },
 "nbformat": 4,
 "nbformat_minor": 2
}

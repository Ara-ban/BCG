{
 "cells": [
  {
   "cell_type": "markdown",
   "metadata": {},
   "source": [
    "# Benchmark building "
   ]
  },
  {
   "cell_type": "markdown",
   "metadata": {},
   "source": [
    "# starting by champs Elysées"
   ]
  },
  {
   "cell_type": "code",
   "execution_count": 26,
   "metadata": {},
   "outputs": [],
   "source": [
    "import pandas as pd\n",
    "import numpy as np"
   ]
  },
  {
   "cell_type": "code",
   "execution_count": 75,
   "metadata": {},
   "outputs": [
    {
     "data": {
      "text/plain": [
       "(9338, 15)"
      ]
     },
     "execution_count": 75,
     "metadata": {},
     "output_type": "execute_result"
    }
   ],
   "source": [
    "champ = pd.read_csv('champ.csv',sep=';')\n",
    "champ.shape"
   ]
  },
  {
   "cell_type": "code",
   "execution_count": 42,
   "metadata": {},
   "outputs": [
    {
     "data": {
      "text/html": [
       "<div>\n",
       "<style scoped>\n",
       "    .dataframe tbody tr th:only-of-type {\n",
       "        vertical-align: middle;\n",
       "    }\n",
       "\n",
       "    .dataframe tbody tr th {\n",
       "        vertical-align: top;\n",
       "    }\n",
       "\n",
       "    .dataframe thead th {\n",
       "        text-align: right;\n",
       "    }\n",
       "</style>\n",
       "<table border=\"1\" class=\"dataframe\">\n",
       "  <thead>\n",
       "    <tr style=\"text-align: right;\">\n",
       "      <th></th>\n",
       "      <th>Identifiant arc</th>\n",
       "      <th>Libelle</th>\n",
       "      <th>Date et heure de comptage</th>\n",
       "      <th>Débit horaire</th>\n",
       "      <th>Taux d'occupation</th>\n",
       "      <th>Etat trafic</th>\n",
       "      <th>Identifiant noeud amont</th>\n",
       "      <th>Libelle noeud amont</th>\n",
       "      <th>Identifiant noeud aval</th>\n",
       "      <th>Libelle noeud aval</th>\n",
       "      <th>Etat arc</th>\n",
       "      <th>Date debut dispo data</th>\n",
       "      <th>Date fin dispo data</th>\n",
       "      <th>geo_point_2d</th>\n",
       "      <th>geo_shape</th>\n",
       "    </tr>\n",
       "  </thead>\n",
       "  <tbody>\n",
       "    <tr>\n",
       "      <th>0</th>\n",
       "      <td>4264</td>\n",
       "      <td>AV_Champs_Elysees</td>\n",
       "      <td>2023-02-01T23:00:00+01:00</td>\n",
       "      <td>764.0</td>\n",
       "      <td>11.28000</td>\n",
       "      <td>Fluide</td>\n",
       "      <td>2294</td>\n",
       "      <td>Av_Champs_Elysees-Washington</td>\n",
       "      <td>2293</td>\n",
       "      <td>Av_Champs_Elysees-Berri</td>\n",
       "      <td>Invalide</td>\n",
       "      <td>2005-01-01</td>\n",
       "      <td>2019-06-01</td>\n",
       "      <td>48.87153587897717, 2.3017227924560615</td>\n",
       "      <td>{\"coordinates\": [[2.3009951475338766, 48.87177...</td>\n",
       "    </tr>\n",
       "    <tr>\n",
       "      <th>1</th>\n",
       "      <td>4264</td>\n",
       "      <td>AV_Champs_Elysees</td>\n",
       "      <td>2023-02-01T22:00:00+01:00</td>\n",
       "      <td>819.0</td>\n",
       "      <td>16.52056</td>\n",
       "      <td>Pré-saturé</td>\n",
       "      <td>2294</td>\n",
       "      <td>Av_Champs_Elysees-Washington</td>\n",
       "      <td>2293</td>\n",
       "      <td>Av_Champs_Elysees-Berri</td>\n",
       "      <td>Invalide</td>\n",
       "      <td>2005-01-01</td>\n",
       "      <td>2019-06-01</td>\n",
       "      <td>48.87153587897717, 2.3017227924560615</td>\n",
       "      <td>{\"coordinates\": [[2.3009951475338766, 48.87177...</td>\n",
       "    </tr>\n",
       "    <tr>\n",
       "      <th>2</th>\n",
       "      <td>4264</td>\n",
       "      <td>AV_Champs_Elysees</td>\n",
       "      <td>2023-02-01T20:00:00+01:00</td>\n",
       "      <td>1082.0</td>\n",
       "      <td>19.98722</td>\n",
       "      <td>Pré-saturé</td>\n",
       "      <td>2294</td>\n",
       "      <td>Av_Champs_Elysees-Washington</td>\n",
       "      <td>2293</td>\n",
       "      <td>Av_Champs_Elysees-Berri</td>\n",
       "      <td>Invalide</td>\n",
       "      <td>2005-01-01</td>\n",
       "      <td>2019-06-01</td>\n",
       "      <td>48.87153587897717, 2.3017227924560615</td>\n",
       "      <td>{\"coordinates\": [[2.3009951475338766, 48.87177...</td>\n",
       "    </tr>\n",
       "    <tr>\n",
       "      <th>3</th>\n",
       "      <td>4264</td>\n",
       "      <td>AV_Champs_Elysees</td>\n",
       "      <td>2023-02-01T18:00:00+01:00</td>\n",
       "      <td>1027.0</td>\n",
       "      <td>23.27334</td>\n",
       "      <td>Pré-saturé</td>\n",
       "      <td>2294</td>\n",
       "      <td>Av_Champs_Elysees-Washington</td>\n",
       "      <td>2293</td>\n",
       "      <td>Av_Champs_Elysees-Berri</td>\n",
       "      <td>Invalide</td>\n",
       "      <td>2005-01-01</td>\n",
       "      <td>2019-06-01</td>\n",
       "      <td>48.87153587897717, 2.3017227924560615</td>\n",
       "      <td>{\"coordinates\": [[2.3009951475338766, 48.87177...</td>\n",
       "    </tr>\n",
       "    <tr>\n",
       "      <th>4</th>\n",
       "      <td>4264</td>\n",
       "      <td>AV_Champs_Elysees</td>\n",
       "      <td>2022-12-07T00:00:00+01:00</td>\n",
       "      <td>528.0</td>\n",
       "      <td>68.14334</td>\n",
       "      <td>Bloqué</td>\n",
       "      <td>2294</td>\n",
       "      <td>Av_Champs_Elysees-Washington</td>\n",
       "      <td>2293</td>\n",
       "      <td>Av_Champs_Elysees-Berri</td>\n",
       "      <td>Invalide</td>\n",
       "      <td>2005-01-01</td>\n",
       "      <td>2019-06-01</td>\n",
       "      <td>48.871535879911605, 2.3017227924560624</td>\n",
       "      <td>{\"coordinates\": [[2.300995147533877, 48.871777...</td>\n",
       "    </tr>\n",
       "  </tbody>\n",
       "</table>\n",
       "</div>"
      ],
      "text/plain": [
       "   Identifiant arc            Libelle  Date et heure de comptage  \\\n",
       "0             4264  AV_Champs_Elysees  2023-02-01T23:00:00+01:00   \n",
       "1             4264  AV_Champs_Elysees  2023-02-01T22:00:00+01:00   \n",
       "2             4264  AV_Champs_Elysees  2023-02-01T20:00:00+01:00   \n",
       "3             4264  AV_Champs_Elysees  2023-02-01T18:00:00+01:00   \n",
       "4             4264  AV_Champs_Elysees  2022-12-07T00:00:00+01:00   \n",
       "\n",
       "   Débit horaire  Taux d'occupation Etat trafic  Identifiant noeud amont  \\\n",
       "0          764.0           11.28000      Fluide                     2294   \n",
       "1          819.0           16.52056  Pré-saturé                     2294   \n",
       "2         1082.0           19.98722  Pré-saturé                     2294   \n",
       "3         1027.0           23.27334  Pré-saturé                     2294   \n",
       "4          528.0           68.14334      Bloqué                     2294   \n",
       "\n",
       "            Libelle noeud amont  Identifiant noeud aval  \\\n",
       "0  Av_Champs_Elysees-Washington                    2293   \n",
       "1  Av_Champs_Elysees-Washington                    2293   \n",
       "2  Av_Champs_Elysees-Washington                    2293   \n",
       "3  Av_Champs_Elysees-Washington                    2293   \n",
       "4  Av_Champs_Elysees-Washington                    2293   \n",
       "\n",
       "        Libelle noeud aval  Etat arc Date debut dispo data  \\\n",
       "0  Av_Champs_Elysees-Berri  Invalide            2005-01-01   \n",
       "1  Av_Champs_Elysees-Berri  Invalide            2005-01-01   \n",
       "2  Av_Champs_Elysees-Berri  Invalide            2005-01-01   \n",
       "3  Av_Champs_Elysees-Berri  Invalide            2005-01-01   \n",
       "4  Av_Champs_Elysees-Berri  Invalide            2005-01-01   \n",
       "\n",
       "  Date fin dispo data                            geo_point_2d  \\\n",
       "0          2019-06-01   48.87153587897717, 2.3017227924560615   \n",
       "1          2019-06-01   48.87153587897717, 2.3017227924560615   \n",
       "2          2019-06-01   48.87153587897717, 2.3017227924560615   \n",
       "3          2019-06-01   48.87153587897717, 2.3017227924560615   \n",
       "4          2019-06-01  48.871535879911605, 2.3017227924560624   \n",
       "\n",
       "                                           geo_shape  \n",
       "0  {\"coordinates\": [[2.3009951475338766, 48.87177...  \n",
       "1  {\"coordinates\": [[2.3009951475338766, 48.87177...  \n",
       "2  {\"coordinates\": [[2.3009951475338766, 48.87177...  \n",
       "3  {\"coordinates\": [[2.3009951475338766, 48.87177...  \n",
       "4  {\"coordinates\": [[2.300995147533877, 48.871777...  "
      ]
     },
     "execution_count": 42,
     "metadata": {},
     "output_type": "execute_result"
    }
   ],
   "source": [
    "champ.head()"
   ]
  },
  {
   "cell_type": "code",
   "execution_count": 76,
   "metadata": {},
   "outputs": [],
   "source": [
    "champ['time']=pd.to_datetime(champ['Date et heure de comptage'],utc=True)\n",
    "champ['debit']=champ['Débit horaire']\n",
    "champ['taux']=champ['Taux d\\'occupation']\n",
    "champ=champ[['time','debit','taux']]\n"
   ]
  },
  {
   "cell_type": "code",
   "execution_count": 77,
   "metadata": {},
   "outputs": [],
   "source": [
    "champ = champ.sort_values(by='time')"
   ]
  },
  {
   "cell_type": "code",
   "execution_count": 32,
   "metadata": {},
   "outputs": [
    {
     "data": {
      "text/plain": [
       "time       0\n",
       "debit    267\n",
       "taux     288\n",
       "dtype: int64"
      ]
     },
     "execution_count": 32,
     "metadata": {},
     "output_type": "execute_result"
    }
   ],
   "source": [
    "champ.isna().sum()"
   ]
  },
  {
   "cell_type": "markdown",
   "metadata": {},
   "source": [
    "### benchmark simplest model: ignore missing values/ estimate the debit and taux for each weekday as the average of the last same 4 weekdays    "
   ]
  },
  {
   "cell_type": "code",
   "execution_count": 78,
   "metadata": {},
   "outputs": [
    {
     "name": "stderr",
     "output_type": "stream",
     "text": [
      "C:\\Users\\alkhamed\\AppData\\Local\\Temp\\ipykernel_736\\3623180710.py:23: SettingWithCopyWarning: \n",
      "A value is trying to be set on a copy of a slice from a DataFrame.\n",
      "Try using .loc[row_indexer,col_indexer] = value instead\n",
      "\n",
      "See the caveats in the documentation: https://pandas.pydata.org/pandas-docs/stable/user_guide/indexing.html#returning-a-view-versus-a-copy\n",
      "  last_10_days.at[date, 'taux_pred'] = calculate_avg_last_4_weeks(champ, date, 'taux')\n",
      "C:\\Users\\alkhamed\\AppData\\Local\\Temp\\ipykernel_736\\3623180710.py:24: SettingWithCopyWarning: \n",
      "A value is trying to be set on a copy of a slice from a DataFrame.\n",
      "Try using .loc[row_indexer,col_indexer] = value instead\n",
      "\n",
      "See the caveats in the documentation: https://pandas.pydata.org/pandas-docs/stable/user_guide/indexing.html#returning-a-view-versus-a-copy\n",
      "  last_10_days.at[date, 'debit_pred'] = calculate_avg_last_4_weeks(champ, date, 'debit')\n"
     ]
    }
   ],
   "source": [
    "# Convert 'time' column to datetime if it's not already\n",
    "champ['time'] = pd.to_datetime(champ['time'])\n",
    "\n",
    "# Set 'time' column as the index\n",
    "champ.set_index('time', inplace=True)\n",
    "\n",
    "\n",
    "last_10_days = champ.last('10D')\n",
    "\n",
    "def calculate_avg_last_4_weeks(df, date, column):\n",
    "    day_of_week = date.dayofweek\n",
    "    hour = date.hour\n",
    "    # Filter for the same day of the week in the last 4 weeks\n",
    "    past_data = df[(df.index < date) & \n",
    "                   (df.index > date - pd.Timedelta(weeks=4)) & \n",
    "                   (df.index.dayofweek == day_of_week) & \n",
    "                   (df.index.hour == hour)][column]\n",
    "\n",
    "    # Get the last 4 values and calculate the mean, ignoring NaNs\n",
    "    return past_data.tail(4).mean(skipna=True)\n",
    "\n",
    "for date, row in last_10_days.iterrows():\n",
    "    last_10_days.at[date, 'taux_pred'] = calculate_avg_last_4_weeks(champ, date, 'taux')\n",
    "    last_10_days.at[date, 'debit_pred'] = calculate_avg_last_4_weeks(champ, date, 'debit')\n",
    "\n"
   ]
  },
  {
   "cell_type": "code",
   "execution_count": 80,
   "metadata": {},
   "outputs": [
    {
     "name": "stdout",
     "output_type": "stream",
     "text": [
      "MSE_taux : 279.62497252318786\n",
      "MSE_debit : 60898.26932870371\n"
     ]
    }
   ],
   "source": [
    "from sklearn.metrics import mean_squared_error\n",
    "mse_taux = mean_squared_error(last_10_days['taux'], last_10_days['taux_pred'])\n",
    "\n",
    "mse_debit = mean_squared_error(last_10_days['debit'], last_10_days['debit_pred'])\n",
    "\n",
    "\n",
    "print(f'MSE_taux : {mse_taux}')\n",
    "print(f'MSE_debit : {mse_debit}')\n"
   ]
  }
 ],
 "metadata": {
  "kernelspec": {
   "display_name": "Python 3",
   "language": "python",
   "name": "python3"
  },
  "language_info": {
   "codemirror_mode": {
    "name": "ipython",
    "version": 3
   },
   "file_extension": ".py",
   "mimetype": "text/x-python",
   "name": "python",
   "nbconvert_exporter": "python",
   "pygments_lexer": "ipython3",
   "version": "3.11.3"
  }
 },
 "nbformat": 4,
 "nbformat_minor": 2
}
